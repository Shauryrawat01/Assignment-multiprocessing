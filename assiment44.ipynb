{
 "cells": [
  {
   "cell_type": "code",
   "execution_count": 1,
   "id": "db2a60c9-177c-4fd6-8310-28294c2f918c",
   "metadata": {},
   "outputs": [],
   "source": [
    "#Question1\n",
    "#Multiprocessing is a programming technique that allows multiple processes to run simultaneously within a single computer\n",
    "#it is usefull because it improve performance ,provide scalability and reduce blocking from the program"
   ]
  },
  {
   "cell_type": "code",
   "execution_count": 2,
   "id": "df7f5b3d-5a9f-493b-b47d-2f01d8f2e6f1",
   "metadata": {},
   "outputs": [],
   "source": [
    "#Question2\n",
    "#Multiprocessing is similar to multithreading, but there are some key differences. In multithreading, all threads share the same memory space.\n",
    "#This can lead to problems with race conditions and deadlocks. In multiprocessing, each \n",
    "#process has its own memory space. This prevents race conditions and deadlocks,\n",
    "#but it also makes communication between processes more difficult."
   ]
  },
  {
   "cell_type": "code",
   "execution_count": 3,
   "id": "cc05b331-5e01-4f71-9355-69dcae7eb0bc",
   "metadata": {},
   "outputs": [],
   "source": [
    "#Question 3\n",
    "import multiprocessing\n",
    "\n",
    "def my_function():\n",
    "  print(\"This is my function running in a child process.\")\n",
    "\n",
    "if __name__ == \"__main__\":\n",
    "  p = multiprocessing.Process(target=my_function)\n",
    "  p.start()\n",
    "  p.join()"
   ]
  },
  {
   "cell_type": "code",
   "execution_count": 4,
   "id": "30e85809-fd0a-404f-9478-40fbdf82bd28",
   "metadata": {},
   "outputs": [],
   "source": [
    "#Question 4\n",
    "#A multiprocessing pool in Python is a group of worker processes that can be used to execute tasks concurrently. It is a powerful tool for improving the performance of programs that can be broken down into smaller, independent tasks.\n",
    "#It is  is used to create a multiprocessing pool. The Pool() class takes a number of arguments, such as the number of worker processes to create.\n"
   ]
  },
  {
   "cell_type": "code",
   "execution_count": null,
   "id": "0f7572f1-b6e3-4c25-bc86-9312be4e504a",
   "metadata": {},
   "outputs": [],
   "source": [
    "#Question 5\n",
    "import multiprocessing\n",
    "\n",
    "def my_function(x):\n",
    "  return x * x\n",
    "\n",
    "if __name__ == \"__main__\":\n",
    "  # Create a pool with 4 worker processes.\n",
    "  pool = multiprocessing.Pool(4)\n",
    "\n",
    "  results = pool.map(my_function, [1, 2, 3, 4])\n",
    "  for result in results:\n",
    "    print(result)"
   ]
  }
 ],
 "metadata": {
  "kernelspec": {
   "display_name": "Python 3 (ipykernel)",
   "language": "python",
   "name": "python3"
  },
  "language_info": {
   "codemirror_mode": {
    "name": "ipython",
    "version": 3
   },
   "file_extension": ".py",
   "mimetype": "text/x-python",
   "name": "python",
   "nbconvert_exporter": "python",
   "pygments_lexer": "ipython3",
   "version": "3.11.4"
  }
 },
 "nbformat": 4,
 "nbformat_minor": 5
}
